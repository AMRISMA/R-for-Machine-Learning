{
  "cells": [
    {
      "metadata": {},
      "cell_type": "markdown",
      "source": "# PART 1 : INTRODUCTION"
    },
    {
      "metadata": {
        "collapsed": true
      },
      "cell_type": "markdown",
      "source": "## History of R"
    },
    {
      "metadata": {},
      "cell_type": "markdown",
      "source": "S: language for data analysis developed at Bell Labs circa 1976\n\nR: initially written & released as an open source software by Ross Ihaka and Robert Gentleman at U Auckland during 90s (R plays on name “S”)\n\nSince 1997: international R-core team ~15 people & 1000s of code writers and statisticians happy to share their libraries! AWESOME!"
    },
    {
      "metadata": {},
      "cell_type": "markdown",
      "source": "## Open source”... that just means I don’t have to pay for it, right?!"
    },
    {
      "metadata": {
        "trusted": true
      },
      "cell_type": "markdown",
      "source": "R is an interpreted computer language.\nMost user-visible functions are written in R itself, calling upon a smaller set of internal primitives. \nIt is possible to interface procedures written in C, C+, or FORTRAN languages for efficiency, and to write additional primitives.\nSystem commands can be called from within R\n\nR is used for data manipulation, statistics, and graphics. It is made up of:\noperators (+  -  <-  *  %*%  …) for calculations on arrays & matrices\nlarge, coherent, integrated collection of functions\nfacilities for making unlimited types of publication quality graphics\nuser written functions & sets of functions (packages); 800+ contributed packages so far & growing\n"
    },
    {
      "metadata": {},
      "cell_type": "markdown",
      "source": "## Installing R"
    },
    {
      "metadata": {},
      "cell_type": "markdown",
      "source": "The facts:\nR is a language and environment for statistical computing and graphics\nFreely available and maintained by volunteers\nR is extensible; can be expanded by installing “packages”\nHow to get it:\nhttp://www.r-project.org/ (or Google “Download R”)\nAvailable for Windows, Mac, Linux\nFree to install, no catches\nAlso highly recommended:\nR Studio: a free IDE for R\nhttp://www.rstudio.com/ \nIf you install R and R Studio, then you only need to run R Studio"
    },
    {
      "metadata": {},
      "cell_type": "markdown",
      "source": "### Question 1"
    },
    {
      "metadata": {},
      "cell_type": "markdown",
      "source": "Write the following example in the textbox provided and see the result by pressing the Run button\n\nx <- c(1:10)\n\nx[(x>8) | (x<5)]\n\nx < 5 \n\nx > 8 | x < 5 \n"
    },
    {
      "metadata": {
        "trusted": true
      },
      "cell_type": "code",
      "source": "",
      "execution_count": null,
      "outputs": []
    },
    {
      "metadata": {},
      "cell_type": "markdown",
      "source": "### Question 2"
    },
    {
      "metadata": {},
      "cell_type": "markdown",
      "source": "Lets create two small vectors with data and a scatterplot.\n\nz2 <- c(1,2,3,4,5,6)\n\nz3 <- c(6,8,3,5,7,1)\n\nplot(z2,z3)\n\ntitle(\"My first scatterplot\")\n"
    },
    {
      "metadata": {
        "trusted": true
      },
      "cell_type": "code",
      "source": "",
      "execution_count": null,
      "outputs": []
    },
    {
      "metadata": {},
      "cell_type": "markdown",
      "source": "# PART 2: Data Input"
    },
    {
      "metadata": {},
      "cell_type": "markdown",
      "source": "R has a wide variety of data types including:\nscalars, vectors (numerical, character, logical), matrices, dataframes, and lists.\n"
    },
    {
      "metadata": {},
      "cell_type": "markdown",
      "source": "### Question 3"
    },
    {
      "metadata": {},
      "cell_type": "markdown",
      "source": "Type the following in the code box below and see the result.\n\na <- c(1,2,5.3,6,-2,4) # numeric vector\n\nb <- c(\"one\",\"two\",\"three\") # character vector\n\nc <- c(TRUE,TRUE,TRUE,FALSE,TRUE,FALSE)\n\nd <- c(1,2,3,4)\n\ne <- c(\"red\", \"white\", \"red\", NA)\n\nf <- c(TRUE,TRUE,TRUE,FALSE)\n\nmydata <- data.frame(d,e,f)\n\nnames(mydata) <- c(\"ID\",\"Color\",\"Passed\")\n"
    },
    {
      "metadata": {
        "trusted": true
      },
      "cell_type": "code",
      "source": "",
      "execution_count": null,
      "outputs": []
    },
    {
      "metadata": {
        "trusted": true
      },
      "cell_type": "code",
      "source": "mydata",
      "execution_count": null,
      "outputs": []
    },
    {
      "metadata": {},
      "cell_type": "markdown",
      "source": "From the data camp, you might also be introduce about list and factors. "
    }
  ],
  "metadata": {
    "kernelspec": {
      "name": "r",
      "display_name": "R",
      "language": "R"
    },
    "language_info": {
      "mimetype": "text/x-r-source",
      "name": "R",
      "pygments_lexer": "r",
      "version": "3.4.1",
      "file_extension": ".r",
      "codemirror_mode": "r"
    }
  },
  "nbformat": 4,
  "nbformat_minor": 2
}