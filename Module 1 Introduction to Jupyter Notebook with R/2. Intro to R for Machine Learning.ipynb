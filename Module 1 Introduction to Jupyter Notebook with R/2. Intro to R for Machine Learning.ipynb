{
  "cells": [
    {
      "metadata": {
        "deletable": false,
        "run_control": {
          "frozen": true
        },
        "tags": [
          "context"
        ],
        "dc": {
          "key": "8c3ba502e2"
        },
        "editable": false
      },
      "cell_type": "markdown",
      "source": "## 1. This is a Jupyter notebook!\n<p>A <em>Jupyter notebook</em> is a document that contains text cells (what you're reading right now) and code cells. What is special with a notebook is that it's <em>interactive</em>: You can change or add code cells, and then <em>run</em> a cell by first selecting it and then clicking the <em>run cell</em> button above ( <strong>▶|</strong> Run ) or hitting <code>ctrl + enter</code>. </p>\n<p><img src=\"https://s3.amazonaws.com/assets.datacamp.com/production/project_33/datasets/run_code_cell_image.png\" alt=\"\"></p>\n<p>The result will be displayed directly in the notebook. You <em>could</em> use a notebook as a simple calculator. For example, it's estimated that on average 256 children were born every minute in 2016. The code cell below calculates how many children were born on average on a day. </p>"
    },
    {
      "metadata": {
        "tags": [
          "sample_code"
        ],
        "trusted": true,
        "dc": {
          "key": "8c3ba502e2"
        }
      },
      "cell_type": "code",
      "source": "#Task 1: Run this code\n#I'm a code cell, click me, then run me!\n256 * 60 * 24 # Children × minutes × hours",
      "execution_count": null,
      "outputs": []
    },
    {
      "metadata": {
        "deletable": false,
        "run_control": {
          "frozen": true
        },
        "tags": [
          "context"
        ],
        "dc": {
          "key": "b5ed313abb"
        },
        "editable": false
      },
      "cell_type": "markdown",
      "source": "## 2. Put _any_ code in code cells\n<p>But a code cell can contain much more than a simple one-liner! This is a notebook running R and you can put <em>any</em> R code in a code cell (but notebooks can run other languages too, like python). Below is a code cell where we define a whole new function (<code>greet</code>). To show the output of <code>greet</code> we can run it anywhere and the result is always printed out at the end of the code cell. </p>"
    },
    {
      "metadata": {
        "tags": [
          "sample_code"
        ],
        "trusted": true,
        "dc": {
          "key": "b5ed313abb"
        }
      },
      "cell_type": "code",
      "source": "greet <- function(first_name, last_name) {\n  paste(\"My name is \", last_name, \", \", \n        first_name, \" \", last_name, \"!\", sep = \"\")\n}\n\n#Task 2:Replace with your first and last name.\n# That is, unless your name is already Amelia Ismail.\n\n# .... YOUR CODE FOR TASK 2 ....\ngreet(\"Amelia\", \"Ismail\")",
      "execution_count": null,
      "outputs": []
    },
    {
      "metadata": {
        "deletable": false,
        "run_control": {
          "frozen": true
        },
        "tags": [
          "context"
        ],
        "dc": {
          "key": "d71cd3b937"
        },
        "editable": false
      },
      "cell_type": "markdown",
      "source": "## 3. Jupyter notebooks ♡ data\n<p>We've seen that notebooks can display basic objects such as numbers and strings. But notebooks also support the objects used in data science, which makes them great for interactive data analysis!</p>\n<p>For example, below we create a data frame by reading in a <code>csv</code>-file with the average global temperature for the years 1850 to 2016. If we look at the <code>head</code> of this data frame the notebook will render it as a nice-looking table.</p>"
    },
    {
      "metadata": {
        "tags": [
          "sample_code"
        ],
        "trusted": true,
        "dc": {
          "key": "d71cd3b937"
        }
      },
      "cell_type": "code",
      "source": "# Reading in the global temperature data,data\nglobal_temp <- read.csv(\"datasets/global_temperature.csv\")\n\n# Task 3: Take a look at the first datapoints\n# .... YOUR CODE FOR TASK 3 ....\n",
      "execution_count": null,
      "outputs": []
    },
    {
      "metadata": {
        "deletable": false,
        "run_control": {
          "frozen": true
        },
        "tags": [
          "context"
        ],
        "dc": {
          "key": "4c4219b8e7"
        },
        "editable": false
      },
      "cell_type": "markdown",
      "source": "## 4. Jupyter notebooks ♡ plots\n<p>Tables are nice but — as the saying goes — <em>\"a plot can show a thousand data points\"</em>. Notebooks handle plots as well and all plots created in code cells will automatically be displayed inline. </p>\n<p>Let's take a look at the global temperature for the last 150 years.</p>"
    },
    {
      "metadata": {
        "tags": [
          "sample_code"
        ],
        "trusted": true,
        "dc": {
          "key": "4c4219b8e7"
        }
      },
      "cell_type": "code",
      "source": "# Task 4: Plotting global temperature in degrees celsius by year.\n\n# .... YOUR CODE FOR TASK 3 ....\nplot(global_temp$year, global_temp$degrees_celsius, \n     type = \"l\", col = \"forestgreen\", \n     xlab = \"   \", ylab = \" \")",
      "execution_count": null,
      "outputs": []
    },
    {
      "metadata": {
        "deletable": false,
        "run_control": {
          "frozen": true
        },
        "tags": [
          "context"
        ],
        "dc": {
          "key": "1df3b07b44"
        },
        "editable": false
      },
      "cell_type": "markdown",
      "source": "## 5. Jupyter notebooks ♡ Data Science\n<p>Tables and plots are the most common outputs when doing data science and, as these outputs are rendered inline, notebooks works great not only for <em>doing</em> a data analysis but also for <em>showing</em> a data analysis. A finished notebook contains both the result and the code that produced it. This is useful when you want to share your findings or if you need to update your analysis with new data.</p>\n<p>Let's add some advanced data analysis to our notebook! For example, this (slightly complicated) code forecasts the global temperature 50 years into the future using an <em>exponential smoothing state space model</em> (<code>ets</code>).</p>\n<p><em><strong>Note</strong>: Global temperature is a complex phenomenon and exponential smoothing is likely not a good model here. This is just an example of how easy it is to do (and show) complex forecasting in a Jupyter notebook.</em></p>"
    },
    {
      "metadata": {
        "tags": [
          "sample_code"
        ],
        "trusted": true,
        "dc": {
          "key": "1df3b07b44"
        }
      },
      "cell_type": "code",
      "source": "library(forecast)\nlibrary(ggplot2)\n\n# Converting global_temp into a time series (ts) object.\nglobal_temp_ts <- ts(global_temp$degrees_celsius, \n                     start = global_temp$year[1])\n\n# Forecasting global temperature 50 years into the future \n# using an exponential smoothing state space model (ets).\ntemperature_forecast <- forecast( ets(global_temp_ts), h = 50)\n\n# Task 5: Plotting the forecast\n# .... YOUR CODE FOR TASK 5 ....\n\n",
      "execution_count": null,
      "outputs": []
    },
    {
      "metadata": {
        "deletable": false,
        "run_control": {
          "frozen": true
        },
        "tags": [
          "context"
        ],
        "dc": {
          "key": "9ccef156d2"
        },
        "editable": false
      },
      "cell_type": "markdown",
      "source": "## 6. Goodbye for now!\n<p>This was just a short introduction to Jupyter notebooks, an open source technology that is increasingly used for data science and analysis. I hope you enjoyed it! :)</p>"
    },
    {
      "metadata": {
        "tags": [
          "sample_code"
        ],
        "trusted": false,
        "dc": {
          "key": "9ccef156d2"
        },
        "collapsed": true
      },
      "cell_type": "code",
      "source": "# Are you ready to get started with more R?\nI_am_ready <- TRUE\n\n# Ps. \n# Feel free to try out any other stuff in this notebook. \n# It's all yours!",
      "execution_count": 13,
      "outputs": []
    }
  ],
  "metadata": {
    "language_info": {
      "mimetype": "text/x-r-source",
      "name": "R",
      "pygments_lexer": "r",
      "version": "3.4.1",
      "file_extension": ".r",
      "codemirror_mode": "r"
    },
    "kernelspec": {
      "name": "r",
      "display_name": "R",
      "language": "R"
    }
  },
  "nbformat": 4,
  "nbformat_minor": 2
}